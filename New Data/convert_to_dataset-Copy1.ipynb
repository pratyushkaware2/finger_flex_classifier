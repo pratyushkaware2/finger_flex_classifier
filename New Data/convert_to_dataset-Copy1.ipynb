{
 "cells": [
  {
   "cell_type": "code",
   "execution_count": 1,
   "metadata": {},
   "outputs": [],
   "source": [
    "import json"
   ]
  },
  {
   "cell_type": "code",
   "execution_count": 2,
   "metadata": {},
   "outputs": [],
   "source": [
    "neutral = json.loads(open('Bend0.json').read())\n",
    "mid = json.loads(open('Bend1.json').read())\n",
    "full = json.loads(open('Bend2.json').read())"
   ]
  },
  {
   "cell_type": "code",
   "execution_count": 3,
   "metadata": {},
   "outputs": [
    {
     "data": {
      "text/plain": [
       "12"
      ]
     },
     "execution_count": 3,
     "metadata": {},
     "output_type": "execute_result"
    }
   ],
   "source": [
    "csv_file = open(\"bend.csv\",\"w\")\n",
    "csv_file.write(\"Value\" + \",\" + \"State\"+\"\\n\")"
   ]
  },
  {
   "cell_type": "code",
   "execution_count": 4,
   "metadata": {},
   "outputs": [],
   "source": [
    "entries = 0\n",
    "for key in neutral:\n",
    "    entries += 1\n",
    "    if entries > 100:\n",
    "        break\n",
    "    value = neutral[key]\n",
    "    csv_file.write(str(value)+\",\"+\"N\"+\"\\n\")"
   ]
  },
  {
   "cell_type": "code",
   "execution_count": 5,
   "metadata": {},
   "outputs": [],
   "source": [
    "entries = 0\n",
    "for key in mid:\n",
    "    entries += 1\n",
    "    if entries > 100:\n",
    "        break    \n",
    "    value = mid[key]\n",
    "    csv_file.write(str(value)+\",\"+\"M\"+\"\\n\")"
   ]
  },
  {
   "cell_type": "code",
   "execution_count": 6,
   "metadata": {},
   "outputs": [],
   "source": [
    "entries = 0\n",
    "for key in full:\n",
    "    entries += 1\n",
    "    if entries > 100:\n",
    "        break\n",
    "    value = full[key]\n",
    "    csv_file.write(str(value)+\",\"+\"F\"+\"\\n\")"
   ]
  },
  {
   "cell_type": "code",
   "execution_count": 7,
   "metadata": {},
   "outputs": [],
   "source": [
    "csv_file.close()"
   ]
  },
  {
   "cell_type": "code",
   "execution_count": null,
   "metadata": {},
   "outputs": [],
   "source": []
  }
 ],
 "metadata": {
  "kernelspec": {
   "display_name": "Python 3",
   "language": "python",
   "name": "python3"
  },
  "language_info": {
   "codemirror_mode": {
    "name": "ipython",
    "version": 3
   },
   "file_extension": ".py",
   "mimetype": "text/x-python",
   "name": "python",
   "nbconvert_exporter": "python",
   "pygments_lexer": "ipython3",
   "version": "3.6.10"
  }
 },
 "nbformat": 4,
 "nbformat_minor": 4
}
