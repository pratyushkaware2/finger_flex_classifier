{
 "cells": [
  {
   "cell_type": "code",
   "execution_count": 1,
   "metadata": {},
   "outputs": [],
   "source": [
    "import pandas as pd\n",
    "from sklearn.preprocessing import LabelEncoder\n",
    "from numpy import array \n",
    "bend_df = pd.read_csv(\"bend.csv\")\n",
    "X = bend_df.Value\n",
    "le = LabelEncoder()\n",
    "Y = le.fit_transform(bend_df.State)"
   ]
  },
  {
   "cell_type": "code",
   "execution_count": 2,
   "metadata": {},
   "outputs": [],
   "source": [
    "from sklearn.model_selection import train_test_split\n",
    "X_train,X_test, Y_train,Y_test = train_test_split(X, Y,train_size=0.7,random_state=1)\n",
    "\n",
    "#model.fit requires [[], [], []] format.\n",
    "X_train = array(X_train).reshape(-1, 1) \n",
    "X_test = array(X_test).reshape(-1, 1) "
   ]
  },
  {
   "cell_type": "code",
   "execution_count": 3,
   "metadata": {},
   "outputs": [],
   "source": [
    "from sklearn.ensemble import RandomForestClassifier\n",
    "from sklearn.svm import SVC\n",
    "from sklearn.naive_bayes import GaussianNB\n",
    "from sklearn.neighbors import KNeighborsClassifier\n",
    "from sklearn.tree import DecisionTreeClassifier\n",
    "\n",
    "models = []\n",
    "\n",
    "models.append(('Gaussian N-Bayes', GaussianNB()))\n",
    "models.append(('Support Vector Machine', SVC(gamma='auto')))\n",
    "models.append(('Random Forest', RandomForestClassifier(n_estimators=15)))\n",
    "models.append(('K Nearest Neighbors', KNeighborsClassifier(n_neighbors=20)))\n",
    "models.append(('Decision Tree', DecisionTreeClassifier()))"
   ]
  },
  {
   "cell_type": "code",
   "execution_count": 5,
   "metadata": {},
   "outputs": [
    {
     "name": "stdout",
     "output_type": "stream",
     "text": [
      "Gaussian N-Bayes\n",
      "Fitting Done\n",
      "Accuracy: 0.8\n",
      "Misclassification Rate: 0.19999999999999996\n",
      "f1_score: 0.8056426332288401\n",
      "Precision: 0.8056426332288401\n",
      "Recall: 0.8056426332288401\n",
      "\n",
      "\n",
      "Support Vector Machine\n",
      "Fitting Done\n",
      "Accuracy: 0.8\n",
      "Misclassification Rate: 0.19999999999999996\n",
      "f1_score: 0.8056426332288401\n",
      "Precision: 0.8056426332288401\n",
      "Recall: 0.8056426332288401\n",
      "\n",
      "\n",
      "Random Forest\n",
      "Fitting Done\n",
      "Accuracy: 0.8333333333333334\n",
      "Misclassification Rate: 0.16666666666666663\n",
      "f1_score: 0.8383311603650586\n",
      "Precision: 0.8381944444444445\n",
      "Recall: 0.8387321490769767\n",
      "\n",
      "\n",
      "K Nearest Neighbors\n",
      "Fitting Done\n",
      "Accuracy: 0.8444444444444444\n",
      "Misclassification Rate: 0.15555555555555556\n",
      "f1_score: 0.8493055555555555\n",
      "Precision: 0.8494623655913979\n",
      "Recall: 0.85022640195054\n",
      "\n",
      "\n",
      "Decision Tree\n",
      "Fitting Done\n",
      "Accuracy: 0.8\n",
      "Misclassification Rate: 0.19999999999999996\n",
      "f1_score: 0.8064516129032256\n",
      "Precision: 0.8084291187739464\n",
      "Recall: 0.8084291187739464\n",
      "\n",
      "\n"
     ]
    }
   ],
   "source": [
    "from sklearn.datasets import make_classification\n",
    "from sklearn.metrics import accuracy_score, f1_score, precision_score, recall_score, classification_report, confusion_matrix\n",
    "import joblib\n",
    "csv_file = open(\"Analysis.csv\",\"w\")\n",
    "csv_file.write(\"Name\" + \",\" + \n",
    "               \"Accuracy\"+ \",\" +\n",
    "               \"Misclassification Rate\" + \",\" + \n",
    "               \"f1_score\" + \",\" + \n",
    "               \"Precision\" + \",\" + \n",
    "               \"Recall\" + \"\\n\")\n",
    "\n",
    "for name, model in models:\n",
    "    print(name)\n",
    "    \n",
    "    model.fit(X_train,Y_train)\n",
    "    print(\"Fitting Done\")\n",
    "    \n",
    "    filename = \"_\".join(name.split(\" \"))+'.sav'\n",
    "    joblib.dump(model, open(filename, 'wb'))\n",
    "    \n",
    "    Y_pred = model.predict(X_test)\n",
    "    csv_file.write(name + \",\" +\n",
    "                   str(accuracy_score(Y_test, Y_pred)) + \",\" +\n",
    "                   str(1 - accuracy_score(Y_test, Y_pred)) + \",\" +\n",
    "                   str(f1_score(Y_test, Y_pred, average=\"macro\")) + \",\" +\n",
    "                   str(precision_score(Y_test, Y_pred, average=\"macro\")) + \",\" +\n",
    "                   str(recall_score(Y_test, Y_pred, average=\"macro\")) + \"\\n\")\n",
    "    \n",
    "    print(\"Accuracy:\",accuracy_score(Y_test, Y_pred))\n",
    "    print(\"Misclassification Rate:\",1 - accuracy_score(Y_test, Y_pred))\n",
    "    print(\"f1_score:\",f1_score(Y_test, Y_pred, average=\"macro\"))\n",
    "    print(\"Precision:\",precision_score(Y_test, Y_pred, average=\"macro\"))\n",
    "    print(\"Recall:\",recall_score(Y_test, Y_pred, average=\"macro\"))\n",
    "    print(\"\\n\")"
   ]
  },
  {
   "cell_type": "code",
   "execution_count": null,
   "metadata": {},
   "outputs": [],
   "source": [
    "csv_file.close()"
   ]
  }
 ],
 "metadata": {
  "kernelspec": {
   "display_name": "Python 3",
   "language": "python",
   "name": "python3"
  },
  "language_info": {
   "codemirror_mode": {
    "name": "ipython",
    "version": 3
   },
   "file_extension": ".py",
   "mimetype": "text/x-python",
   "name": "python",
   "nbconvert_exporter": "python",
   "pygments_lexer": "ipython3",
   "version": "3.6.10"
  }
 },
 "nbformat": 4,
 "nbformat_minor": 4
}
