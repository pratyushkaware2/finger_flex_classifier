{
 "cells": [
  {
   "cell_type": "code",
   "execution_count": 7,
   "metadata": {
    "scrolled": false
   },
   "outputs": [
    {
     "name": "stdout",
     "output_type": "stream",
     "text": [
      "\\hline\n",
      "8 & 25 & 99\\\\\n",
      "\\hline\n",
      "65 & 159 & 106\\\\\n",
      "\\hline\n",
      "58 & 217 & 106\\\\\n",
      "\\hline\n",
      "65 & 259 & 124\\\\\n",
      "\\hline\n",
      "89 & 161 & 34\\\\\n",
      "\\hline\n",
      "74 & 166 & 123\\\\\n",
      "\\hline\n",
      "53 & 160 & 122\\\\\n",
      "\\hline\n",
      "46 & 165 & 120\\\\\n",
      "\\hline\n",
      "45 & 169 & 117\\\\\n",
      "\\hline\n",
      "60 & 163 & 122\\\\\n",
      "\\hline\n",
      "27 & 166 & 118\\\\\n",
      "\\hline\n",
      "49 & 128 & 120\\\\\n",
      "\\hline\n",
      "73 & 134 & 125\\\\\n",
      "\\hline\n",
      "91 & 128 & 350\\\\\n",
      "\\hline\n",
      "74 & 132 & 369\\\\\n"
     ]
    }
   ],
   "source": [
    "neut_txt = open(\"neut.txt\",\"r\")\n",
    "mid_txt = open(\"mid.txt\",\"r\")\n",
    "full_txt = open(\"full.txt\",\"r\")\n",
    "\n",
    "for _ in range(15):\n",
    "    print(\"\\hline\")\n",
    "    print((neut_txt.readline())[:-1] + \" & \" \n",
    "          + (mid_txt.readline())[:-1] + \" & \" \n",
    "          + (full_txt.readline())[:-1] + \"\\\\\\\\\" )\n",
    "    "
   ]
  },
  {
   "cell_type": "code",
   "execution_count": null,
   "metadata": {},
   "outputs": [],
   "source": []
  },
  {
   "cell_type": "code",
   "execution_count": null,
   "metadata": {},
   "outputs": [],
   "source": []
  },
  {
   "cell_type": "code",
   "execution_count": null,
   "metadata": {},
   "outputs": [],
   "source": []
  },
  {
   "cell_type": "code",
   "execution_count": null,
   "metadata": {},
   "outputs": [],
   "source": []
  },
  {
   "cell_type": "code",
   "execution_count": null,
   "metadata": {},
   "outputs": [],
   "source": []
  },
  {
   "cell_type": "code",
   "execution_count": 2,
   "metadata": {},
   "outputs": [],
   "source": [
    "neut_txt.close()\n",
    "mid_txt.close()\n",
    "full_txt.close()"
   ]
  },
  {
   "cell_type": "code",
   "execution_count": null,
   "metadata": {},
   "outputs": [],
   "source": []
  },
  {
   "cell_type": "code",
   "execution_count": null,
   "metadata": {},
   "outputs": [],
   "source": []
  }
 ],
 "metadata": {
  "kernelspec": {
   "display_name": "Python 3",
   "language": "python",
   "name": "python3"
  },
  "language_info": {
   "codemirror_mode": {
    "name": "ipython",
    "version": 3
   },
   "file_extension": ".py",
   "mimetype": "text/x-python",
   "name": "python",
   "nbconvert_exporter": "python",
   "pygments_lexer": "ipython3",
   "version": "3.8.2"
  }
 },
 "nbformat": 4,
 "nbformat_minor": 4
}
