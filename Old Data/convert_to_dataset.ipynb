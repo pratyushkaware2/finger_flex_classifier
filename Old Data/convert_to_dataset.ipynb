{
 "cells": [
  {
   "cell_type": "code",
   "execution_count": 1,
   "metadata": {},
   "outputs": [],
   "source": [
    "import json"
   ]
  },
  {
   "cell_type": "code",
   "execution_count": 2,
   "metadata": {},
   "outputs": [],
   "source": [
    "neutral = json.loads(open('neut.json').read())\n",
    "mid = json.loads(open('mid.json').read())\n",
    "full = json.loads(open('full.json').read())"
   ]
  },
  {
   "cell_type": "code",
   "execution_count": 3,
   "metadata": {},
   "outputs": [],
   "source": [
    "neut_txt = open(\"neut.txt\",\"w\")\n",
    "mid_txt = open(\"mid.txt\",\"w\")\n",
    "full_txt = open(\"full.txt\",\"w\")"
   ]
  },
  {
   "cell_type": "code",
   "execution_count": 4,
   "metadata": {},
   "outputs": [],
   "source": [
    "entries = 0\n",
    "for key in neutral:\n",
    "    entries += 1\n",
    "    if entries > 80:\n",
    "        break\n",
    "    value = neutral[key]\n",
    "    neut_txt.write(\"\\n\"+str(value))"
   ]
  },
  {
   "cell_type": "code",
   "execution_count": 5,
   "metadata": {},
   "outputs": [],
   "source": [
    "entries = 0\n",
    "for key in mid:\n",
    "    entries += 1\n",
    "    if entries > 80:\n",
    "        break    \n",
    "    value = mid[key]\n",
    "    mid_txt.write(\"\\n\"+str(value))"
   ]
  },
  {
   "cell_type": "code",
   "execution_count": 6,
   "metadata": {},
   "outputs": [],
   "source": [
    "entries = 0\n",
    "for key in full:\n",
    "    entries += 1\n",
    "    if entries > 80:\n",
    "        break\n",
    "    value = full[key]\n",
    "    full_txt.write(\"\\n\"+str(value))"
   ]
  },
  {
   "cell_type": "code",
   "execution_count": 7,
   "metadata": {},
   "outputs": [],
   "source": [
    "neut_txt.close()\n",
    "mid_txt.close()\n",
    "full_txt.close()"
   ]
  }
 ],
 "metadata": {
  "kernelspec": {
   "display_name": "Python 3",
   "language": "python",
   "name": "python3"
  },
  "language_info": {
   "codemirror_mode": {
    "name": "ipython",
    "version": 3
   },
   "file_extension": ".py",
   "mimetype": "text/x-python",
   "name": "python",
   "nbconvert_exporter": "python",
   "pygments_lexer": "ipython3",
   "version": "3.6.10"
  }
 },
 "nbformat": 4,
 "nbformat_minor": 4
}
